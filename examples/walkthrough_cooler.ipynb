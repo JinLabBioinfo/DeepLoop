{
 "cells": [
  {
   "cell_type": "markdown",
   "metadata": {},
   "source": [
    "## Converting DeepLoop output to Cooler\n",
    "\n",
    "We provide the `convert_to_cooler.py` script for converting valid pairs format to .cool or .mcool files. There are two main ways to use this script: either to convert the data exactly (typically for analysis) or convert the data approximately to uniform bin sizes (typically for visualization in HiGlass)."
   ]
  },
  {
   "cell_type": "markdown",
   "metadata": {},
   "source": [
    "### 1. Exact conversion\n",
    "\n",
    "This option allows you to convert all DeepLoop interactions to a cooler file without any loss of information. This will store the variable bin sizes corresponding to the anchor bed files. The only reason you might not want to do this is if you wish to visualize the output in HiGlass as it only supports uniform bin sizes. "
   ]
  },
  {
   "cell_type": "code",
   "execution_count": 36,
   "metadata": {},
   "outputs": [
    {
     "name": "stdout",
     "output_type": "stream",
     "text": [
      "coolers/H9_denoise.cool\n",
      "100%|███████████████████████████████████████████| 24/24 [01:10<00:00,  2.94s/it]\n",
      "              a1      a2  denoise   chr  chr_a1  chr_a2\n",
      "0              0       1   0.0841  chr1       0       1\n",
      "1              0       2   0.0827  chr1       0       2\n",
      "2              0       3   0.0324  chr1       0       3\n",
      "3              0       4   0.0075  chr1       0       4\n",
      "4              0       7   0.0122  chr1       0       7\n",
      "...          ...     ...      ...   ...     ...     ...\n",
      "23008367  334610  334612   0.0789  chrY    2987    2989\n",
      "23008368  334610  334613   0.1060  chrY    2987    2990\n",
      "23008369  334611  334612   0.1226  chrY    2988    2989\n",
      "23008370  334611  334613   0.1777  chrY    2988    2990\n",
      "23008371  334612  334613   0.1589  chrY    2989    2990\n",
      "\n",
      "[23008372 rows x 6 columns]\n",
      "a1           int64\n",
      "a2           int64\n",
      "denoise    float64\n",
      "chr         object\n",
      "chr_a1       int64\n",
      "chr_a2       int64\n",
      "dtype: object\n",
      "Saving cooler...\n",
      "334612 334613 334614\n",
      "     chrom     start       end  anchor  weight\n",
      "0     chr1         0     16008       0       1\n",
      "1     chr1     16009     24572       1       1\n",
      "2     chr1     24573     30430       2       1\n",
      "3     chr1     30431     37753       3       1\n",
      "4     chr1     37754     43603       4       1\n",
      "...    ...       ...       ...     ...     ...\n",
      "2986  chrY  59330880  59336834  334609       1\n",
      "2987  chrY  59336835  59344068  334610       1\n",
      "2988  chrY  59344069  59351275  334611       1\n",
      "2989  chrY  59351276  59356727  334612       1\n",
      "2990  chrY  59356728  59373565  334613       1\n",
      "\n",
      "[334614 rows x 5 columns]\n",
      "\u001b[0m"
     ]
    }
   ],
   "source": [
    "! python3 ../utils/convert_to_cooler.py --anchor_dir ../training_data/anchor_bed/ \\\n",
    "                                        --loop_dir ../training_data/H9_denoised/H9_full/ \\\n",
    "                                        --out_file coolers/H9_denoise.cool \\\n",
    "                                        --col_names a1 a2 denoise \\\n",
    "                                        --cooler_col denoise;"
   ]
  },
  {
   "cell_type": "markdown",
   "metadata": {},
   "source": [
    "### 2. Approximate conversion (uniform bin sizes)\n",
    "\n",
    "This setting allows you to set a uniform bin size for visualization in HiGlass. This requires us to smear the non-uniform pixels into uniform pixels (e.g a single non-uniform pixel might be an $n \\times m$ box of uniform pixels) which takes much longer than simply writing a cooler file with variable bin size."
   ]
  },
  {
   "cell_type": "code",
   "execution_count": 28,
   "metadata": {},
   "outputs": [
    {
     "name": "stdout",
     "output_type": "stream",
     "text": [
      "coolers/H9_denoise_10kb.cool\n",
      "100%|███████████████████████████████████████████| 24/24 [00:49<00:00,  2.08s/it]\n",
      "           a1     a2  denoise\n",
      "0          79    254   1.1900\n",
      "1          79    255   1.0593\n",
      "2         104    121   1.2532\n",
      "3         106    115   1.0596\n",
      "4         106    118   1.1182\n",
      "...       ...    ...      ...\n",
      "417343  24898  24906   1.4329\n",
      "417344  24898  24908   1.5750\n",
      "417345  24898  24909   1.2827\n",
      "417346  24906  24908   1.1572\n",
      "417347  24906  24909   1.0119\n",
      "\n",
      "[417348 rows x 3 columns]\n",
      "a1           int64\n",
      "a2           int64\n",
      "denoise    float64\n",
      "dtype: object\n",
      "Saving cooler...\n",
      "24906 24923 24925\n",
      "           start        end  weight chrom\n",
      "0              0      10000       1  chr1\n",
      "1          10000      20000       1  chr1\n",
      "2          20000      30000       1  chr1\n",
      "3          30000      40000       1  chr1\n",
      "4          40000      50000       1  chr1\n",
      "...          ...        ...     ...   ...\n",
      "24920  249200000  249210000       1  chr1\n",
      "24921  249210000  249220000       1  chr1\n",
      "24922  249220000  249230000       1  chr1\n",
      "24923  249230000  249240000       1  chr1\n",
      "24924  249240000  249250000       1  chr1\n",
      "\n",
      "[24925 rows x 4 columns]\n",
      "Zoomifying cooler...\n",
      "[20000, 40000, 80000, 160000]\n"
     ]
    }
   ],
   "source": [
    "! python3 ../utils/convert_to_cooler.py --anchor_dir ../training_data/anchor_bed/ \\\n",
    "                                        --loop_dir ../training_data/H9_denoised/H9_full/ \\\n",
    "                                        --out_file coolers/H9_denoise_10kb.cool \\\n",
    "                                        --col_names a1 a2 denoise \\\n",
    "                                        --cooler_col denoise \\\n",
    "                                        --single_chrom chr1 \\\n",
    "                                        --bin_size 10000 \\\n",
    "                                        --min_val 1 \\\n",
    "                                        --force_bin_size \\\n",
    "                                        --zoomify \\\n",
    "                                        --multires_outfile coolers/H9_denoise_10kb.mcool;"
   ]
  },
  {
   "cell_type": "markdown",
   "metadata": {},
   "source": [
    "Note: if you are running this notebook remotely, you will need to specify the `server_port` argument. This cannot be the same port used as the notebook (default 8888) and must be forwarded in the same way you would port-forward for running notebooks remotely."
   ]
  },
  {
   "cell_type": "code",
   "execution_count": 35,
   "metadata": {},
   "outputs": [
    {
     "data": {
      "application/vnd.jupyter.widget-view+json": {
       "model_id": "0663aab7cb514b448eabd156f866b952",
       "version_major": 2,
       "version_minor": 0
      },
      "text/plain": [
       "HiGlassDisplay(viewconf={'editable': True, 'views': [{'uid': 'E7reH8CzTdSBO1eNG0nC5g', 'tracks': {'top': [], '…"
      ]
     },
     "metadata": {},
     "output_type": "display_data"
    }
   ],
   "source": [
    "from higlass.client import View, Track\n",
    "from higlass.tilesets import cooler\n",
    "import higlass\n",
    "\n",
    "ts1 = cooler('coolers/H9_denoise_10kb.mcool')\n",
    "tr1 = Track('heatmap', tileset=ts1)\n",
    "view1 = View([tr1])\n",
    "display, server, viewconf = higlass.display([view1], server_port=8889)\n",
    "\n",
    "display"
   ]
  }
 ],
 "metadata": {
  "kernelspec": {
   "display_name": "Python 3",
   "language": "python",
   "name": "python3"
  },
  "language_info": {
   "codemirror_mode": {
    "name": "ipython",
    "version": 3
   },
   "file_extension": ".py",
   "mimetype": "text/x-python",
   "name": "python",
   "nbconvert_exporter": "python",
   "pygments_lexer": "ipython3",
   "version": "3.7.10"
  }
 },
 "nbformat": 4,
 "nbformat_minor": 4
}
